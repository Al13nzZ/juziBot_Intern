{
  "nbformat": 4,
  "nbformat_minor": 0,
  "metadata": {
    "colab": {
      "provenance": []
    },
    "kernelspec": {
      "name": "python3",
      "display_name": "Python 3"
    },
    "language_info": {
      "name": "python"
    }
  },
  "cells": [
    {
      "cell_type": "code",
      "source": [
        "pip install pypdf\n"
      ],
      "metadata": {
        "colab": {
          "base_uri": "https://localhost:8080/"
        },
        "id": "mD0ZyHx7pl0_",
        "outputId": "0febaa28-441e-48b4-a60b-ec43af1510e6"
      },
      "execution_count": null,
      "outputs": [
        {
          "output_type": "stream",
          "name": "stdout",
          "text": [
            "Requirement already satisfied: pypdf in /usr/local/lib/python3.10/dist-packages (3.15.2)\n"
          ]
        }
      ]
    },
    {
      "cell_type": "code",
      "source": [
        "pip install langchain[llms]"
      ],
      "metadata": {
        "colab": {
          "base_uri": "https://localhost:8080/"
        },
        "id": "l7pbZvRyrOFV",
        "outputId": "a70d8018-623d-4dee-b710-94615181cba6"
      },
      "execution_count": null,
      "outputs": [
        {
          "output_type": "stream",
          "name": "stdout",
          "text": [
            "\u001b[33mWARNING: Ignoring invalid distribution -oogle-api-python-client (/usr/local/lib/python3.10/dist-packages)\u001b[0m\u001b[33m\n",
            "\u001b[0mRequirement already satisfied: langchain[llms] in /usr/local/lib/python3.10/dist-packages (0.0.268)\n",
            "Requirement already satisfied: PyYAML>=5.3 in /usr/local/lib/python3.10/dist-packages (from langchain[llms]) (6.0.1)\n",
            "Requirement already satisfied: SQLAlchemy<3,>=1.4 in /usr/local/lib/python3.10/dist-packages (from langchain[llms]) (2.0.20)\n",
            "Requirement already satisfied: aiohttp<4.0.0,>=3.8.3 in /usr/local/lib/python3.10/dist-packages (from langchain[llms]) (3.8.5)\n",
            "Requirement already satisfied: async-timeout<5.0.0,>=4.0.0 in /usr/local/lib/python3.10/dist-packages (from langchain[llms]) (4.0.3)\n",
            "Requirement already satisfied: dataclasses-json<0.6.0,>=0.5.7 in /usr/local/lib/python3.10/dist-packages (from langchain[llms]) (0.5.14)\n",
            "Requirement already satisfied: langsmith<0.1.0,>=0.0.21 in /usr/local/lib/python3.10/dist-packages (from langchain[llms]) (0.0.25)\n",
            "Requirement already satisfied: numexpr<3.0.0,>=2.8.4 in /usr/local/lib/python3.10/dist-packages (from langchain[llms]) (2.8.5)\n",
            "Requirement already satisfied: numpy<2,>=1 in /usr/local/lib/python3.10/dist-packages (from langchain[llms]) (1.23.5)\n",
            "Requirement already satisfied: pydantic<3,>=1 in /usr/local/lib/python3.10/dist-packages (from langchain[llms]) (2.1.1)\n",
            "Requirement already satisfied: requests<3,>=2 in /usr/local/lib/python3.10/dist-packages (from langchain[llms]) (2.31.0)\n",
            "Requirement already satisfied: tenacity<9.0.0,>=8.1.0 in /usr/local/lib/python3.10/dist-packages (from langchain[llms]) (8.2.3)\n",
            "Collecting clarifai>=9.1.0 (from langchain[llms])\n",
            "  Using cached clarifai-9.7.1-py3-none-any.whl (8.9 MB)\n",
            "Requirement already satisfied: cohere<5,>=4 in /usr/local/lib/python3.10/dist-packages (from langchain[llms]) (4.20.2)\n",
            "Requirement already satisfied: huggingface_hub<1,>=0 in /usr/local/lib/python3.10/dist-packages (from langchain[llms]) (0.16.4)\n",
            "Requirement already satisfied: manifest-ml<0.0.2,>=0.0.1 in /usr/local/lib/python3.10/dist-packages (from langchain[llms]) (0.0.1)\n",
            "Requirement already satisfied: nlpcloud<2,>=1 in /usr/local/lib/python3.10/dist-packages (from langchain[llms]) (1.1.44)\n",
            "Requirement already satisfied: openai<1,>=0 in /usr/local/lib/python3.10/dist-packages (from langchain[llms]) (0.27.8)\n",
            "Requirement already satisfied: openlm<0.0.6,>=0.0.5 in /usr/local/lib/python3.10/dist-packages (from langchain[llms]) (0.0.5)\n",
            "Requirement already satisfied: torch<3,>=1 in /usr/local/lib/python3.10/dist-packages (from langchain[llms]) (1.13.1)\n",
            "Requirement already satisfied: transformers<5,>=4 in /usr/local/lib/python3.10/dist-packages (from langchain[llms]) (4.31.0)\n",
            "Requirement already satisfied: attrs>=17.3.0 in /usr/local/lib/python3.10/dist-packages (from aiohttp<4.0.0,>=3.8.3->langchain[llms]) (23.1.0)\n",
            "Requirement already satisfied: charset-normalizer<4.0,>=2.0 in /usr/local/lib/python3.10/dist-packages (from aiohttp<4.0.0,>=3.8.3->langchain[llms]) (3.2.0)\n",
            "Requirement already satisfied: multidict<7.0,>=4.5 in /usr/local/lib/python3.10/dist-packages (from aiohttp<4.0.0,>=3.8.3->langchain[llms]) (6.0.4)\n",
            "Requirement already satisfied: yarl<2.0,>=1.0 in /usr/local/lib/python3.10/dist-packages (from aiohttp<4.0.0,>=3.8.3->langchain[llms]) (1.9.2)\n",
            "Requirement already satisfied: frozenlist>=1.1.1 in /usr/local/lib/python3.10/dist-packages (from aiohttp<4.0.0,>=3.8.3->langchain[llms]) (1.4.0)\n",
            "Requirement already satisfied: aiosignal>=1.1.2 in /usr/local/lib/python3.10/dist-packages (from aiohttp<4.0.0,>=3.8.3->langchain[llms]) (1.3.1)\n",
            "Requirement already satisfied: clarifai-grpc>=9.7.1 in /usr/local/lib/python3.10/dist-packages (from clarifai>=9.1.0->langchain[llms]) (9.7.3)\n",
            "Requirement already satisfied: tritonclient==2.34.0 in /usr/local/lib/python3.10/dist-packages (from clarifai>=9.1.0->langchain[llms]) (2.34.0)\n",
            "Requirement already satisfied: packaging in /usr/local/lib/python3.10/dist-packages (from clarifai>=9.1.0->langchain[llms]) (23.1)\n",
            "Requirement already satisfied: python-rapidjson>=0.9.1 in /usr/local/lib/python3.10/dist-packages (from tritonclient==2.34.0->clarifai>=9.1.0->langchain[llms]) (1.10)\n",
            "Requirement already satisfied: backoff<3.0,>=2.0 in /usr/local/lib/python3.10/dist-packages (from cohere<5,>=4->langchain[llms]) (2.2.1)\n",
            "Requirement already satisfied: fastavro==1.8.2 in /usr/local/lib/python3.10/dist-packages (from cohere<5,>=4->langchain[llms]) (1.8.2)\n",
            "Requirement already satisfied: importlib_metadata<7.0,>=6.0 in /usr/local/lib/python3.10/dist-packages (from cohere<5,>=4->langchain[llms]) (6.8.0)\n",
            "Requirement already satisfied: urllib3<3,>=1.26 in /usr/local/lib/python3.10/dist-packages (from cohere<5,>=4->langchain[llms]) (1.26.16)\n",
            "Requirement already satisfied: marshmallow<4.0.0,>=3.18.0 in /usr/local/lib/python3.10/dist-packages (from dataclasses-json<0.6.0,>=0.5.7->langchain[llms]) (3.20.1)\n",
            "Requirement already satisfied: typing-inspect<1,>=0.4.0 in /usr/local/lib/python3.10/dist-packages (from dataclasses-json<0.6.0,>=0.5.7->langchain[llms]) (0.9.0)\n",
            "Requirement already satisfied: filelock in /usr/local/lib/python3.10/dist-packages (from huggingface_hub<1,>=0->langchain[llms]) (3.12.2)\n",
            "Requirement already satisfied: fsspec in /usr/local/lib/python3.10/dist-packages (from huggingface_hub<1,>=0->langchain[llms]) (2023.6.0)\n",
            "Requirement already satisfied: tqdm>=4.42.1 in /usr/local/lib/python3.10/dist-packages (from huggingface_hub<1,>=0->langchain[llms]) (4.66.1)\n",
            "Requirement already satisfied: typing-extensions>=3.7.4.3 in /usr/local/lib/python3.10/dist-packages (from huggingface_hub<1,>=0->langchain[llms]) (4.7.1)\n",
            "Requirement already satisfied: dill>=0.3.5 in /usr/local/lib/python3.10/dist-packages (from manifest-ml<0.0.2,>=0.0.1->langchain[llms]) (0.3.7)\n",
            "Requirement already satisfied: redis>=4.3.1 in /usr/local/lib/python3.10/dist-packages (from manifest-ml<0.0.2,>=0.0.1->langchain[llms]) (4.6.0)\n",
            "Requirement already satisfied: sqlitedict>=2.0.0 in /usr/local/lib/python3.10/dist-packages (from manifest-ml<0.0.2,>=0.0.1->langchain[llms]) (2.1.0)\n",
            "Requirement already satisfied: annotated-types>=0.4.0 in /usr/local/lib/python3.10/dist-packages (from pydantic<3,>=1->langchain[llms]) (0.5.0)\n",
            "Requirement already satisfied: pydantic-core==2.4.0 in /usr/local/lib/python3.10/dist-packages (from pydantic<3,>=1->langchain[llms]) (2.4.0)\n",
            "Requirement already satisfied: idna<4,>=2.5 in /usr/local/lib/python3.10/dist-packages (from requests<3,>=2->langchain[llms]) (3.4)\n",
            "Requirement already satisfied: certifi>=2017.4.17 in /usr/local/lib/python3.10/dist-packages (from requests<3,>=2->langchain[llms]) (2023.7.22)\n",
            "Requirement already satisfied: greenlet!=0.4.17 in /usr/local/lib/python3.10/dist-packages (from SQLAlchemy<3,>=1.4->langchain[llms]) (2.0.2)\n",
            "Requirement already satisfied: nvidia-cuda-runtime-cu11==11.7.99 in /usr/local/lib/python3.10/dist-packages (from torch<3,>=1->langchain[llms]) (11.7.99)\n",
            "Requirement already satisfied: nvidia-cudnn-cu11==8.5.0.96 in /usr/local/lib/python3.10/dist-packages (from torch<3,>=1->langchain[llms]) (8.5.0.96)\n",
            "Requirement already satisfied: nvidia-cublas-cu11==11.10.3.66 in /usr/local/lib/python3.10/dist-packages (from torch<3,>=1->langchain[llms]) (11.10.3.66)\n",
            "Requirement already satisfied: nvidia-cuda-nvrtc-cu11==11.7.99 in /usr/local/lib/python3.10/dist-packages (from torch<3,>=1->langchain[llms]) (11.7.99)\n",
            "Requirement already satisfied: setuptools in /usr/local/lib/python3.10/dist-packages (from nvidia-cublas-cu11==11.10.3.66->torch<3,>=1->langchain[llms]) (67.7.2)\n",
            "Requirement already satisfied: wheel in /usr/local/lib/python3.10/dist-packages (from nvidia-cublas-cu11==11.10.3.66->torch<3,>=1->langchain[llms]) (0.41.1)\n",
            "Requirement already satisfied: regex!=2019.12.17 in /usr/local/lib/python3.10/dist-packages (from transformers<5,>=4->langchain[llms]) (2023.6.3)\n",
            "Requirement already satisfied: tokenizers!=0.11.3,<0.14,>=0.11.1 in /usr/local/lib/python3.10/dist-packages (from transformers<5,>=4->langchain[llms]) (0.13.3)\n",
            "Requirement already satisfied: safetensors>=0.3.1 in /usr/local/lib/python3.10/dist-packages (from transformers<5,>=4->langchain[llms]) (0.3.2)\n",
            "Requirement already satisfied: grpcio>=1.44.0 in /usr/local/lib/python3.10/dist-packages (from clarifai-grpc>=9.7.1->clarifai>=9.1.0->langchain[llms]) (1.57.0)\n",
            "Requirement already satisfied: protobuf>=3.20.3 in /usr/local/lib/python3.10/dist-packages (from clarifai-grpc>=9.7.1->clarifai>=9.1.0->langchain[llms]) (4.24.1)\n",
            "Requirement already satisfied: googleapis-common-protos>=1.53.0 in /usr/local/lib/python3.10/dist-packages (from clarifai-grpc>=9.7.1->clarifai>=9.1.0->langchain[llms]) (1.60.0)\n",
            "Requirement already satisfied: zipp>=0.5 in /usr/local/lib/python3.10/dist-packages (from importlib_metadata<7.0,>=6.0->cohere<5,>=4->langchain[llms]) (3.16.2)\n",
            "Requirement already satisfied: mypy-extensions>=0.3.0 in /usr/local/lib/python3.10/dist-packages (from typing-inspect<1,>=0.4.0->dataclasses-json<0.6.0,>=0.5.7->langchain[llms]) (1.0.0)\n",
            "\u001b[33mWARNING: Ignoring invalid distribution -oogle-api-python-client (/usr/local/lib/python3.10/dist-packages)\u001b[0m\u001b[33m\n",
            "\u001b[0mInstalling collected packages: clarifai\n",
            "Successfully installed clarifai-9.7.1\n"
          ]
        }
      ]
    },
    {
      "cell_type": "code",
      "source": [
        "from langchain.document_loaders import PyPDFLoader\n",
        "\n",
        "loader = PyPDFLoader(\"/content/1.pdf\",)\n",
        "pages = loader.load_and_split()"
      ],
      "metadata": {
        "id": "Chzfa7MJqPjm"
      },
      "execution_count": null,
      "outputs": []
    },
    {
      "cell_type": "code",
      "source": [
        "print(pages)"
      ],
      "metadata": {
        "colab": {
          "base_uri": "https://localhost:8080/"
        },
        "id": "zMNlHpoXs7Fr",
        "outputId": "30c9e59b-d5fa-4b2f-bbf9-2c6920f3d6f6"
      },
      "execution_count": null,
      "outputs": [
        {
          "output_type": "stream",
          "name": "stdout",
          "text": [
            "[Document(page_content='STA无痛麻醉仪\\n流程及话术\\n出品：项目管理部\\n审核医生：罗朝阳', metadata={'source': '/content/1.pdf', 'page': 0}), Document(page_content='Delun Dental Clinic 2\\nIntroduction\\nSTA无痛麻醉仪，是美国 Milestone 公司研发生产的一种局部\\n麻醉药自动传输系统，是目前国际上最先进的口腔专用无痛麻\\n醉仪。STA由计算机控制主机、带输气管脚踏、手柄、手柄配\\n套针头(有3种规格)等组成。一、简介', metadata={'source': '/content/1.pdf', 'page': 1}), Document(page_content='Delun Dental Clinic 3\\n二、流程\\n01 02\\n注射前 进针时 注射时03\\n根据麻醉要求和注射部位，慢速推入适\\n量局麻药，视患者情况或选用快速；注\\n射完毕停留10s，使局麻药扩散到组织\\n后拔针，避免局麻药滴人口腔。缓慢旋转推进，保证针头走行于麻醉\\n通道中，达到预定深度后回吸；将无菌棉球置于麻醉部位或用负压吸唾\\n器及时清除唾液及自针头流出的局麻药；\\n刺入黏膜前，针尖斜面向穿刺点稍施压\\n力， 用Control Flo的注射速度停留数\\n秒达到预麻醉；', metadata={'source': '/content/1.pdf', 'page': 2}), Document(page_content='Delun Dental Clinic 4\\n三、适应症\\n各种特殊人群 儿童 牙科焦虑心血管疾病患者', metadata={'source': '/content/1.pdf', 'page': 3}), Document(page_content='Delun Dental Clinic 5\\n四、作用\\nSTA 可于骨膜上浸润麻醉和上、下颌神经阻滞麻醉。此外， \\nSTA 具有以下 3 种独特的注射技术:牙周韧带注射、上牙槽前\\n中神经阻滞、经腭侧入路的上牙槽前神经阻滞。\\nSTA', metadata={'source': '/content/1.pdf', 'page': 4}), Document(page_content='Delun Dental Clinic 6\\n五、优势\\nSTA注射针细小、针孔微创， 局麻药注射和传输\\n由计算机控制，可匀速给药，且 0.005 mL/s 的\\n最低注射速度对局部组织造成的不适感低于一般人\\n群的疼痛阈值，疼痛感微乎其微。无痛\\n舒适。STA 使用不显眼的手柄进针时不会对患者\\n造成视觉压力，可有效避免焦虑情绪；此外，麻醉\\n范围精确，STA 不导致邻近组织的“多余” 麻醉，\\n使麻醉范围更精确，术中相关脸颊、唇部和舌部组\\n织不麻醉，术后相应组织无麻木，患者感觉更舒适。舒适\\nSTA拥有自动回吸功能，可以随时监控，防止针\\n头进入血管，更避免了传统手打因忘记回吸而可能\\n注入血管的风险，更好保障了麻醉过程的安全性。安全', metadata={'source': '/content/1.pdf', 'page': 5}), Document(page_content='Delun Dental Clinic 7\\n六、STA与传统麻醉注射对比\\nSTA 传统麻醉注射\\n全程麻醉感觉舒适，放松 穿刺及注射药液有明显的疼痛\\n手柄外观无威胁性 恐惧，焦虑感增加\\n自动输出药液 手部推注、易疲劳\\n180度旋转进针，减少阻滞麻醉失败率 易产生偏斜，阻滞麻醉失败率增加\\n麻药用量少且注射舒适。 药量增加，患者感到不适\\n手指掌控，易找支点 难找支点，安全性降低\\n匀速给药，无需等待，安全，无面部、唇部麻木快速注射，需要等待，起效后易造成术后麻醉时间长，面部、\\n唇部组织麻木\\n脚踏控制回吸，确保安全注射 手动操作回吸，安全系数较低', metadata={'source': '/content/1.pdf', 'page': 6}), Document(page_content='七、话术\\n开场白\\n您好！您的口腔治疗（智齿拔除/牙龈刮治/翻瓣修整/根管治疗/种植牙修\\n复等）需要用到麻醉，传统的医生手打注射麻醉不可避免会让您感受到痛\\n感，为了客户更好的治疗体验，我们德伦特意引进了美国STA无痛麻醉仪，\\n是国外最常用的局部麻醉手段之一，让您麻醉也好、治疗过程也好，都能\\n基本达到无痛舒适状态，我给您详细介绍下吧！', metadata={'source': '/content/1.pdf', 'page': 7}), Document(page_content='Delun Dental Clinic 9\\n一、“STA无痛麻醉仪”是什么：\\nSTA无痛麻醉仪 ，是美国著名Milestone 公司研发生产的一种\\n局部麻醉药自动传输系统， 是目前国际最新一代的口腔用无痛麻\\n醉仪。它就是通过电脑精确控制和特别的装置，让麻药能够匀速\\n进入组织，实现无痛效果。\\nSTA在国外早已被广泛运用于口腔诊所了，国内知名三甲医院、\\n高端口腔机构也是广泛应用。大部分人在需要进行局部麻醉的时\\n候，都会首选STA无痛麻醉呢。', metadata={'source': '/content/1.pdf', 'page': 8}), Document(page_content='Delun Dental Clinic 10\\n        其实，传统注射麻醉产生疼痛的原因有三点：\\n第一是传统粗针头刺入皮肤时带来的刺入痛感，简单来说就是\\n针扎破皮肤的感觉；\\n第二是针头在口腔组织中穿行产生的穿行异物阻隔感，就是针\\n在你皮肤内使劲往里面戳的痛感；\\n第三是药物注入组织时速率过快而产生的压力感。\\n        而STA从这三个方面出发，通过特别的装置最大限度地\\n避免了这三种感受，保障了注射时的无痛，具体我从产品特性\\n来给您解释一下。二、“STA”是怎么做到无痛麻醉的：', metadata={'source': '/content/1.pdf', 'page': 9}), Document(page_content='Delun Dental Clinic 11\\n咱们这个STA针头比传统的针头细小，其次\\nSTA针头有药液浸润溢出，配合表麻，可以在进针前\\n先麻醉那块组织，这样医生用针头刺入时，您基本察\\n觉不到刺破感。第一\\n传统医生手动注射时，是必须先针穿行到组织一\\n定深度时，才能注射一点麻醉药，所以不可避免在针\\n头穿行时有痛感，但是STA特有的边进针边排药功能，\\n让组织先麻醉，医生再慢慢推进针头，您是几乎感受\\n不到针头在组织里穿行受阻的异物痛感的。第二\\n相对于医生手动注射，由于速率不一，有可能注\\n入速率过高会给组织带来极大的压力痛感，而STA是\\n数字化控制输药速度，始终匀速保持输药速度在人体\\n可感受的疼痛阈值之下。 另外，再配合独家专利的\\nDPS动态压力传感器，药物注射速度、针头穿行受到\\n的阻力可以通过压力传感器反馈给医生，医生可以更\\n好的调整速度和穿行方向，保障客户打麻药舒适无痛。第三', metadata={'source': '/content/1.pdf', 'page': 10}), Document(page_content='Delun Dental Clinic 12\\n除了无痛以外，STA相比传统麻醉来说，还有更安全的优点。\\nSTA拥有自动回吸功能，可以随时监控，防止针头进入血管，更\\n避免了传统手打因可能忘记回吸而有可能注入血管的风险，更好\\n保障了麻醉过程的安全性。\\n（注射麻药过程必须回抽注射器，检查注射器是否有血液抽到针\\n筒里。通过回吸阴性确定才能确保注射器没有插入血管才能继续\\n注射麻药。）\\n德伦口腔为了贯彻口腔舒适化诊疗，回馈广大客户，当前活动价\\n只需120元（价格要根据每月政策输出），不仅可以享受STA无\\n痛麻醉，还附含表面麻醉服务，让您的麻醉过程无痛舒适安全，\\n这么好的机会，我建议您不要错过了呢。三、“STA”还有什么其他优点：', metadata={'source': '/content/1.pdf', 'page': 11}), Document(page_content='Thank For Coming\\nSTA Painless Anesthesia Apparatus is an automatic local anesthetic delivery system developed and produced \\nby Milestone Company in the United States. It is the most advanced oral anesthesia apparatus in the world. \\nThe STA is composed of a computer controlled host, a foot pedal with a gas pipe, a handle, and a needle \\nmatched with the handle (3 specifications).', metadata={'source': '/content/1.pdf', 'page': 12})]\n"
          ]
        }
      ]
    },
    {
      "cell_type": "code",
      "source": [
        "from google.colab import drive\n",
        "drive.mount('/content/drive')"
      ],
      "metadata": {
        "colab": {
          "base_uri": "https://localhost:8080/"
        },
        "id": "DdezZnMft0QZ",
        "outputId": "bcafc4ac-dfda-4623-88a9-34ce9413810c"
      },
      "execution_count": null,
      "outputs": [
        {
          "output_type": "stream",
          "name": "stdout",
          "text": [
            "Mounted at /content/drive\n"
          ]
        }
      ]
    },
    {
      "cell_type": "code",
      "source": [
        "loader = PyPDFLoader(\"/content/德伦儿童舒适化口腔治疗.pdf\",)\n",
        "page2 = loader.load_and_split()\n",
        "loader = PyPDFLoader(\"/content/舒适笑气镇静流程及话术.pdf\",)\n",
        "page3 = loader.load_and_split()"
      ],
      "metadata": {
        "id": "jdRQ2tjyvU72"
      },
      "execution_count": null,
      "outputs": []
    },
    {
      "cell_type": "code",
      "source": [
        "pages.extend(page2)\n",
        "pages.extend(page3)"
      ],
      "metadata": {
        "id": "y1tKx1GBvSnD"
      },
      "execution_count": null,
      "outputs": []
    },
    {
      "cell_type": "code",
      "source": [
        "\n",
        "# Define the file path\n",
        "file_path = '/content/drive/My Drive/BeijingIntern/text1.txt'  # Change this path accordingly\n",
        "\n",
        "# Save the content to a text file\n",
        "with open(file_path, 'w') as file:\n",
        "    for item in pages:\n",
        "        file.write(\"%s\\n\" % item)"
      ],
      "metadata": {
        "id": "5o1PYLj5vuAn"
      },
      "execution_count": null,
      "outputs": []
    }
  ]
}